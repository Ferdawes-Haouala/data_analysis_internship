{
 "cells": [
  {
   "cell_type": "code",
   "execution_count": 1,
   "id": "9fdaf816",
   "metadata": {},
   "outputs": [],
   "source": [
    "import pandas as pd \n",
    "import numpy as np\n",
    "import matplotlib.pyplot as plt\n",
    "import seaborn as sns\n",
    "from matplotlib.patches import Rectangle\n",
    "import matplotlib.colors as mcolors\n",
    "%matplotlib inline"
   ]
  },
  {
   "cell_type": "code",
   "execution_count": 2,
   "id": "1bd70d39",
   "metadata": {},
   "outputs": [
    {
     "data": {
      "text/html": [
       "<div>\n",
       "<style scoped>\n",
       "    .dataframe tbody tr th:only-of-type {\n",
       "        vertical-align: middle;\n",
       "    }\n",
       "\n",
       "    .dataframe tbody tr th {\n",
       "        vertical-align: top;\n",
       "    }\n",
       "\n",
       "    .dataframe thead th {\n",
       "        text-align: right;\n",
       "    }\n",
       "</style>\n",
       "<table border=\"1\" class=\"dataframe\">\n",
       "  <thead>\n",
       "    <tr style=\"text-align: right;\">\n",
       "      <th></th>\n",
       "      <th>Ship Mode</th>\n",
       "      <th>Segment</th>\n",
       "      <th>Country</th>\n",
       "      <th>City</th>\n",
       "      <th>State</th>\n",
       "      <th>Postal Code</th>\n",
       "      <th>Region</th>\n",
       "      <th>Category</th>\n",
       "      <th>Sub-Category</th>\n",
       "      <th>Sales</th>\n",
       "      <th>Quantity</th>\n",
       "      <th>Discount</th>\n",
       "      <th>Profit</th>\n",
       "    </tr>\n",
       "  </thead>\n",
       "  <tbody>\n",
       "    <tr>\n",
       "      <th>0</th>\n",
       "      <td>Second Class</td>\n",
       "      <td>Consumer</td>\n",
       "      <td>United States</td>\n",
       "      <td>Henderson</td>\n",
       "      <td>Kentucky</td>\n",
       "      <td>42420</td>\n",
       "      <td>South</td>\n",
       "      <td>Furniture</td>\n",
       "      <td>Bookcases</td>\n",
       "      <td>261.9600</td>\n",
       "      <td>2</td>\n",
       "      <td>0.00</td>\n",
       "      <td>41.9136</td>\n",
       "    </tr>\n",
       "    <tr>\n",
       "      <th>1</th>\n",
       "      <td>Second Class</td>\n",
       "      <td>Consumer</td>\n",
       "      <td>United States</td>\n",
       "      <td>Henderson</td>\n",
       "      <td>Kentucky</td>\n",
       "      <td>42420</td>\n",
       "      <td>South</td>\n",
       "      <td>Furniture</td>\n",
       "      <td>Chairs</td>\n",
       "      <td>731.9400</td>\n",
       "      <td>3</td>\n",
       "      <td>0.00</td>\n",
       "      <td>219.5820</td>\n",
       "    </tr>\n",
       "    <tr>\n",
       "      <th>2</th>\n",
       "      <td>Second Class</td>\n",
       "      <td>Corporate</td>\n",
       "      <td>United States</td>\n",
       "      <td>Los Angeles</td>\n",
       "      <td>California</td>\n",
       "      <td>90036</td>\n",
       "      <td>West</td>\n",
       "      <td>Office Supplies</td>\n",
       "      <td>Labels</td>\n",
       "      <td>14.6200</td>\n",
       "      <td>2</td>\n",
       "      <td>0.00</td>\n",
       "      <td>6.8714</td>\n",
       "    </tr>\n",
       "    <tr>\n",
       "      <th>3</th>\n",
       "      <td>Standard Class</td>\n",
       "      <td>Consumer</td>\n",
       "      <td>United States</td>\n",
       "      <td>Fort Lauderdale</td>\n",
       "      <td>Florida</td>\n",
       "      <td>33311</td>\n",
       "      <td>South</td>\n",
       "      <td>Furniture</td>\n",
       "      <td>Tables</td>\n",
       "      <td>957.5775</td>\n",
       "      <td>5</td>\n",
       "      <td>0.45</td>\n",
       "      <td>-383.0310</td>\n",
       "    </tr>\n",
       "    <tr>\n",
       "      <th>4</th>\n",
       "      <td>Standard Class</td>\n",
       "      <td>Consumer</td>\n",
       "      <td>United States</td>\n",
       "      <td>Fort Lauderdale</td>\n",
       "      <td>Florida</td>\n",
       "      <td>33311</td>\n",
       "      <td>South</td>\n",
       "      <td>Office Supplies</td>\n",
       "      <td>Storage</td>\n",
       "      <td>22.3680</td>\n",
       "      <td>2</td>\n",
       "      <td>0.20</td>\n",
       "      <td>2.5164</td>\n",
       "    </tr>\n",
       "  </tbody>\n",
       "</table>\n",
       "</div>"
      ],
      "text/plain": [
       "        Ship Mode    Segment        Country             City       State  \\\n",
       "0    Second Class   Consumer  United States        Henderson    Kentucky   \n",
       "1    Second Class   Consumer  United States        Henderson    Kentucky   \n",
       "2    Second Class  Corporate  United States      Los Angeles  California   \n",
       "3  Standard Class   Consumer  United States  Fort Lauderdale     Florida   \n",
       "4  Standard Class   Consumer  United States  Fort Lauderdale     Florida   \n",
       "\n",
       "   Postal Code Region         Category Sub-Category     Sales  Quantity  \\\n",
       "0        42420  South        Furniture    Bookcases  261.9600         2   \n",
       "1        42420  South        Furniture       Chairs  731.9400         3   \n",
       "2        90036   West  Office Supplies       Labels   14.6200         2   \n",
       "3        33311  South        Furniture       Tables  957.5775         5   \n",
       "4        33311  South  Office Supplies      Storage   22.3680         2   \n",
       "\n",
       "   Discount    Profit  \n",
       "0      0.00   41.9136  \n",
       "1      0.00  219.5820  \n",
       "2      0.00    6.8714  \n",
       "3      0.45 -383.0310  \n",
       "4      0.20    2.5164  "
      ]
     },
     "execution_count": 2,
     "metadata": {},
     "output_type": "execute_result"
    }
   ],
   "source": [
    "df = pd.read_csv('store.csv')\n",
    "df.head()"
   ]
  },
  {
   "cell_type": "markdown",
   "id": "0bf480c5",
   "metadata": {},
   "source": [
    "# Exploring data set"
   ]
  },
  {
   "cell_type": "markdown",
   "id": "ccea3410",
   "metadata": {},
   "source": [
    "#### Should rename columns for easier use in the code \n",
    "#### postal code is a useless information I guess \n",
    "add a paragraph to explain the data you have \n",
    "rename sub category column with a lower dash "
   ]
  },
  {
   "cell_type": "code",
   "execution_count": 3,
   "id": "73660692",
   "metadata": {},
   "outputs": [
    {
     "data": {
      "text/plain": [
       "Consumer       5191\n",
       "Corporate      3020\n",
       "Home Office    1783\n",
       "Name: Segment, dtype: int64"
      ]
     },
     "execution_count": 3,
     "metadata": {},
     "output_type": "execute_result"
    }
   ],
   "source": [
    "df.Segment.value_counts()"
   ]
  },
  {
   "cell_type": "code",
   "execution_count": 4,
   "id": "ee121d09",
   "metadata": {},
   "outputs": [
    {
     "data": {
      "text/plain": [
       "Office Supplies    6026\n",
       "Furniture          2121\n",
       "Technology         1847\n",
       "Name: Category, dtype: int64"
      ]
     },
     "execution_count": 4,
     "metadata": {},
     "output_type": "execute_result"
    }
   ],
   "source": [
    "df.Category.value_counts()\n",
    "# can plot bivariate graph between segment and what they buy "
   ]
  },
  {
   "cell_type": "code",
   "execution_count": 5,
   "id": "170b3831",
   "metadata": {},
   "outputs": [
    {
     "data": {
      "text/plain": [
       "United States    9994\n",
       "Name: Country, dtype: int64"
      ]
     },
     "execution_count": 5,
     "metadata": {},
     "output_type": "execute_result"
    }
   ],
   "source": [
    "df.Country.value_counts()\n",
    "# we can drop this column because this data is only for the usa so this column does not add helpful information"
   ]
  },
  {
   "cell_type": "code",
   "execution_count": 6,
   "id": "f801363c",
   "metadata": {},
   "outputs": [
    {
     "data": {
      "text/plain": [
       "New York City    915\n",
       "Los Angeles      747\n",
       "Philadelphia     537\n",
       "San Francisco    510\n",
       "Seattle          428\n",
       "Houston          377\n",
       "Chicago          314\n",
       "Columbus         222\n",
       "San Diego        170\n",
       "Springfield      163\n",
       "Name: City, dtype: int64"
      ]
     },
     "execution_count": 6,
     "metadata": {},
     "output_type": "execute_result"
    }
   ],
   "source": [
    "df.City.value_counts().head(10)"
   ]
  },
  {
   "cell_type": "code",
   "execution_count": 7,
   "id": "b313ff2c",
   "metadata": {},
   "outputs": [
    {
     "data": {
      "text/plain": [
       "Index(['Ship Mode', 'Segment', 'Country', 'City', 'State', 'Postal Code',\n",
       "       'Region', 'Category', 'Sub-Category', 'Sales', 'Quantity', 'Discount',\n",
       "       'Profit'],\n",
       "      dtype='object')"
      ]
     },
     "execution_count": 7,
     "metadata": {},
     "output_type": "execute_result"
    }
   ],
   "source": [
    "df.columns "
   ]
  },
  {
   "cell_type": "code",
   "execution_count": 8,
   "id": "557d5783",
   "metadata": {},
   "outputs": [
    {
     "data": {
      "text/plain": [
       "12.960     56\n",
       "19.440     39\n",
       "15.552     39\n",
       "25.920     36\n",
       "10.368     36\n",
       "           ..\n",
       "4.240       1\n",
       "319.960     1\n",
       "646.740     1\n",
       "81.940      1\n",
       "243.160     1\n",
       "Name: Sales, Length: 5825, dtype: int64"
      ]
     },
     "execution_count": 8,
     "metadata": {},
     "output_type": "execute_result"
    }
   ],
   "source": [
    "df.Sales.value_counts()\n",
    "# can see most succesful products, regions, city, segment\n",
    "# compare it to most profitable products, regions, city, segment to know which has more costs so it leads to less profit \n",
    "# can compare it with discount too to see whether it is affection profitability and sales volume or not \n",
    "# determine most demanded quatiities in terms of product segments, sales, profit ..."
   ]
  },
  {
   "cell_type": "code",
   "execution_count": 9,
   "id": "895c91a5",
   "metadata": {},
   "outputs": [
    {
     "data": {
      "text/plain": [
       "0.00    4798\n",
       "0.20    3657\n",
       "0.70     418\n",
       "0.80     300\n",
       "0.30     227\n",
       "0.40     206\n",
       "0.60     138\n",
       "0.10      94\n",
       "0.50      66\n",
       "0.15      52\n",
       "0.32      27\n",
       "0.45      11\n",
       "Name: Discount, dtype: int64"
      ]
     },
     "execution_count": 9,
     "metadata": {},
     "output_type": "execute_result"
    }
   ],
   "source": [
    "df.Discount.value_counts()\n",
    "#.sort_values()\n",
    "# he is ordering the values by the count not by the percentage "
   ]
  },
  {
   "cell_type": "code",
   "execution_count": 10,
   "id": "1e9c2bcd",
   "metadata": {},
   "outputs": [
    {
     "data": {
      "text/plain": [
       "West       3203\n",
       "East       2848\n",
       "Central    2323\n",
       "South      1620\n",
       "Name: Region, dtype: int64"
      ]
     },
     "execution_count": 10,
     "metadata": {},
     "output_type": "execute_result"
    }
   ],
   "source": [
    "df.Region.value_counts()\n"
   ]
  },
  {
   "cell_type": "code",
   "execution_count": 11,
   "id": "d3fd3a3b",
   "metadata": {},
   "outputs": [
    {
     "name": "stdout",
     "output_type": "stream",
     "text": [
      "<class 'pandas.core.frame.DataFrame'>\n",
      "RangeIndex: 9994 entries, 0 to 9993\n",
      "Data columns (total 13 columns):\n",
      " #   Column        Non-Null Count  Dtype  \n",
      "---  ------        --------------  -----  \n",
      " 0   Ship Mode     9994 non-null   object \n",
      " 1   Segment       9994 non-null   object \n",
      " 2   Country       9994 non-null   object \n",
      " 3   City          9994 non-null   object \n",
      " 4   State         9994 non-null   object \n",
      " 5   Postal Code   9994 non-null   int64  \n",
      " 6   Region        9994 non-null   object \n",
      " 7   Category      9994 non-null   object \n",
      " 8   Sub-Category  9994 non-null   object \n",
      " 9   Sales         9994 non-null   float64\n",
      " 10  Quantity      9994 non-null   int64  \n",
      " 11  Discount      9994 non-null   float64\n",
      " 12  Profit        9994 non-null   float64\n",
      "dtypes: float64(3), int64(2), object(8)\n",
      "memory usage: 1015.1+ KB\n"
     ]
    }
   ],
   "source": [
    "df.info()\n",
    "# we don't have an issue with the data types "
   ]
  },
  {
   "cell_type": "code",
   "execution_count": 12,
   "id": "061ea0bc",
   "metadata": {},
   "outputs": [
    {
     "data": {
      "text/html": [
       "<div>\n",
       "<style scoped>\n",
       "    .dataframe tbody tr th:only-of-type {\n",
       "        vertical-align: middle;\n",
       "    }\n",
       "\n",
       "    .dataframe tbody tr th {\n",
       "        vertical-align: top;\n",
       "    }\n",
       "\n",
       "    .dataframe thead th {\n",
       "        text-align: right;\n",
       "    }\n",
       "</style>\n",
       "<table border=\"1\" class=\"dataframe\">\n",
       "  <thead>\n",
       "    <tr style=\"text-align: right;\">\n",
       "      <th></th>\n",
       "      <th>Postal Code</th>\n",
       "      <th>Sales</th>\n",
       "      <th>Quantity</th>\n",
       "      <th>Discount</th>\n",
       "      <th>Profit</th>\n",
       "    </tr>\n",
       "  </thead>\n",
       "  <tbody>\n",
       "    <tr>\n",
       "      <th>count</th>\n",
       "      <td>9994.000000</td>\n",
       "      <td>9994.000000</td>\n",
       "      <td>9994.000000</td>\n",
       "      <td>9994.000000</td>\n",
       "      <td>9994.000000</td>\n",
       "    </tr>\n",
       "    <tr>\n",
       "      <th>mean</th>\n",
       "      <td>55190.379428</td>\n",
       "      <td>229.858001</td>\n",
       "      <td>3.789574</td>\n",
       "      <td>0.156203</td>\n",
       "      <td>28.656896</td>\n",
       "    </tr>\n",
       "    <tr>\n",
       "      <th>std</th>\n",
       "      <td>32063.693350</td>\n",
       "      <td>623.245101</td>\n",
       "      <td>2.225110</td>\n",
       "      <td>0.206452</td>\n",
       "      <td>234.260108</td>\n",
       "    </tr>\n",
       "    <tr>\n",
       "      <th>min</th>\n",
       "      <td>1040.000000</td>\n",
       "      <td>0.444000</td>\n",
       "      <td>1.000000</td>\n",
       "      <td>0.000000</td>\n",
       "      <td>-6599.978000</td>\n",
       "    </tr>\n",
       "    <tr>\n",
       "      <th>25%</th>\n",
       "      <td>23223.000000</td>\n",
       "      <td>17.280000</td>\n",
       "      <td>2.000000</td>\n",
       "      <td>0.000000</td>\n",
       "      <td>1.728750</td>\n",
       "    </tr>\n",
       "    <tr>\n",
       "      <th>50%</th>\n",
       "      <td>56430.500000</td>\n",
       "      <td>54.490000</td>\n",
       "      <td>3.000000</td>\n",
       "      <td>0.200000</td>\n",
       "      <td>8.666500</td>\n",
       "    </tr>\n",
       "    <tr>\n",
       "      <th>75%</th>\n",
       "      <td>90008.000000</td>\n",
       "      <td>209.940000</td>\n",
       "      <td>5.000000</td>\n",
       "      <td>0.200000</td>\n",
       "      <td>29.364000</td>\n",
       "    </tr>\n",
       "    <tr>\n",
       "      <th>max</th>\n",
       "      <td>99301.000000</td>\n",
       "      <td>22638.480000</td>\n",
       "      <td>14.000000</td>\n",
       "      <td>0.800000</td>\n",
       "      <td>8399.976000</td>\n",
       "    </tr>\n",
       "  </tbody>\n",
       "</table>\n",
       "</div>"
      ],
      "text/plain": [
       "        Postal Code         Sales     Quantity     Discount       Profit\n",
       "count   9994.000000   9994.000000  9994.000000  9994.000000  9994.000000\n",
       "mean   55190.379428    229.858001     3.789574     0.156203    28.656896\n",
       "std    32063.693350    623.245101     2.225110     0.206452   234.260108\n",
       "min     1040.000000      0.444000     1.000000     0.000000 -6599.978000\n",
       "25%    23223.000000     17.280000     2.000000     0.000000     1.728750\n",
       "50%    56430.500000     54.490000     3.000000     0.200000     8.666500\n",
       "75%    90008.000000    209.940000     5.000000     0.200000    29.364000\n",
       "max    99301.000000  22638.480000    14.000000     0.800000  8399.976000"
      ]
     },
     "execution_count": 12,
     "metadata": {},
     "output_type": "execute_result"
    }
   ],
   "source": [
    "df.describe()\n",
    "# we have a negative profit is it an outlier?"
   ]
  },
  {
   "cell_type": "code",
   "execution_count": 13,
   "id": "6a2885f7",
   "metadata": {},
   "outputs": [
    {
     "name": "stdout",
     "output_type": "stream",
     "text": [
      "-1665.0522 27\n",
      "-1359.992 165\n",
      "-3839.9904 683\n",
      "-1850.9464 1199\n",
      "-1049.3406 1803\n",
      "-1811.0784 2697\n",
      "-1143.891 2846\n",
      "-1306.5504 2928\n",
      "-3399.98 3011\n",
      "-2639.9912 3151\n",
      "-1480.0335 3324\n",
      "-1065.372 4355\n",
      "-1181.2824 4820\n",
      "-2929.4845 4991\n",
      "-2287.782 5310\n",
      "-1002.7836 5320\n",
      "-1031.5385 6048\n",
      "-6599.978 7772\n",
      "-1237.8462 7898\n",
      "-1141.47 8640\n",
      "-1862.3124 9639\n",
      "-3701.8928 9774\n"
     ]
    }
   ],
   "source": [
    "index=0\n",
    "for i in df.Profit:\n",
    "    if i <-1000:\n",
    "        print(i , index)\n",
    "    index+=1\n",
    "#there are some stores which are making a big loss\n",
    "# badel el code bel query "
   ]
  },
  {
   "cell_type": "code",
   "execution_count": 14,
   "id": "7eca62ec",
   "metadata": {},
   "outputs": [
    {
     "data": {
      "text/plain": [
       "Ship Mode       0\n",
       "Segment         0\n",
       "Country         0\n",
       "City            0\n",
       "State           0\n",
       "Postal Code     0\n",
       "Region          0\n",
       "Category        0\n",
       "Sub-Category    0\n",
       "Sales           0\n",
       "Quantity        0\n",
       "Discount        0\n",
       "Profit          0\n",
       "dtype: int64"
      ]
     },
     "execution_count": 14,
     "metadata": {},
     "output_type": "execute_result"
    }
   ],
   "source": [
    "df.isnull().sum()"
   ]
  },
  {
   "cell_type": "code",
   "execution_count": 15,
   "id": "f036f0bf",
   "metadata": {},
   "outputs": [
    {
     "name": "stdout",
     "output_type": "stream",
     "text": [
      "True 950\n",
      "True 3406\n",
      "True 3670\n",
      "True 4117\n",
      "True 4553\n",
      "True 5905\n",
      "True 6146\n",
      "True 6334\n",
      "True 6357\n",
      "True 7608\n",
      "True 7735\n",
      "True 7759\n",
      "True 8032\n",
      "True 8095\n",
      "True 9262\n",
      "True 9363\n",
      "True 9477\n"
     ]
    }
   ],
   "source": [
    "index=0\n",
    "for i in df.duplicated():\n",
    "    if i ==True:\n",
    "        print(i, index)\n",
    "    index+=1\n",
    "#df.query[df.duplicated()==True]\n",
    "# is it that someone buys product multiple times?"
   ]
  },
  {
   "cell_type": "markdown",
   "id": "085c23f0",
   "metadata": {},
   "source": [
    "### Conclusion \n",
    "Should rename columns for easier use in the code \n",
    "rename sub category column with a lower dash \n",
    "Drop postal code column\n",
    "Drop duplicants ?"
   ]
  },
  {
   "cell_type": "markdown",
   "id": "f49c8ac3",
   "metadata": {},
   "source": [
    "# Data  Wrangeling"
   ]
  },
  {
   "cell_type": "markdown",
   "id": "dbed1aaa",
   "metadata": {},
   "source": [
    "## Define \n",
    "Renaming columns to lower case names and replacing \"-\" with \"_\""
   ]
  },
  {
   "cell_type": "markdown",
   "id": "811bafdd",
   "metadata": {},
   "source": [
    "## Code "
   ]
  },
  {
   "cell_type": "code",
   "execution_count": 16,
   "id": "e8e66402",
   "metadata": {},
   "outputs": [],
   "source": [
    "df.rename(str.lower, axis='columns', inplace=True)"
   ]
  },
  {
   "cell_type": "code",
   "execution_count": 17,
   "id": "6bfdc658",
   "metadata": {},
   "outputs": [],
   "source": [
    "df.rename(columns={\"sub-category\": \"sub_category\"}, inplace=True)"
   ]
  },
  {
   "cell_type": "code",
   "execution_count": 18,
   "id": "9b8569ad",
   "metadata": {},
   "outputs": [],
   "source": [
    "df.columns = df.columns.str.replace(' ', '_')"
   ]
  },
  {
   "cell_type": "markdown",
   "id": "440a48bd",
   "metadata": {},
   "source": [
    "## Test"
   ]
  },
  {
   "cell_type": "code",
   "execution_count": 19,
   "id": "ab6f642f",
   "metadata": {},
   "outputs": [
    {
     "data": {
      "text/plain": [
       "Index(['ship_mode', 'segment', 'country', 'city', 'state', 'postal_code',\n",
       "       'region', 'category', 'sub_category', 'sales', 'quantity', 'discount',\n",
       "       'profit'],\n",
       "      dtype='object')"
      ]
     },
     "execution_count": 19,
     "metadata": {},
     "output_type": "execute_result"
    }
   ],
   "source": [
    "df.columns"
   ]
  },
  {
   "cell_type": "markdown",
   "id": "5243d746",
   "metadata": {},
   "source": [
    "## Define \n",
    "Drop 'postal code' and country column"
   ]
  },
  {
   "cell_type": "markdown",
   "id": "e0ef3f2a",
   "metadata": {},
   "source": [
    "## Code "
   ]
  },
  {
   "cell_type": "code",
   "execution_count": 20,
   "id": "f09ecdad",
   "metadata": {},
   "outputs": [],
   "source": [
    "df.drop('postal_code', inplace=True, axis=1)"
   ]
  },
  {
   "cell_type": "code",
   "execution_count": 21,
   "id": "0ed1a117",
   "metadata": {},
   "outputs": [],
   "source": [
    "df.drop('country', inplace=True, axis=1)"
   ]
  },
  {
   "cell_type": "markdown",
   "id": "4689ebad",
   "metadata": {},
   "source": [
    "## Test "
   ]
  },
  {
   "cell_type": "code",
   "execution_count": 22,
   "id": "5cc8fcb6",
   "metadata": {},
   "outputs": [
    {
     "data": {
      "text/plain": [
       "Index(['ship_mode', 'segment', 'city', 'state', 'region', 'category',\n",
       "       'sub_category', 'sales', 'quantity', 'discount', 'profit'],\n",
       "      dtype='object')"
      ]
     },
     "execution_count": 22,
     "metadata": {},
     "output_type": "execute_result"
    }
   ],
   "source": [
    "df.columns"
   ]
  },
  {
   "cell_type": "markdown",
   "id": "9d5fcf82",
   "metadata": {},
   "source": [
    "# Exploratory Data Analysis "
   ]
  },
  {
   "cell_type": "markdown",
   "id": "8fefe076",
   "metadata": {},
   "source": [
    "## Univariate exploration"
   ]
  },
  {
   "cell_type": "code",
   "execution_count": 23,
   "id": "48a9ec46",
   "metadata": {},
   "outputs": [
    {
     "data": {
      "image/png": "[encoded data removed]",
      "text/plain": [
       "<Figure size 1080x360 with 4 Axes>"
      ]
     },
     "metadata": {
      "needs_background": "light"
     },
     "output_type": "display_data"
    }
   ],
   "source": [
    "# Let's see the size of our segment, country, city\n",
    "df.hist(figsize = (15,5));"
   ]
  },
  {
   "cell_type": "code",
   "execution_count": 24,
   "id": "f54db3e7",
   "metadata": {},
   "outputs": [
    {
     "data": {
      "image/png": "[encoded data removed]",
      "text/plain": [
       "<Figure size 432x288 with 1 Axes>"
      ]
     },
     "metadata": {
      "needs_background": "light"
     },
     "output_type": "display_data"
    }
   ],
   "source": [
    "# the most popular ship mode \n",
    "var = df.ship_mode.value_counts()\n",
    "var.plot(kind='bar',rot=0, subplots=True);\n",
    "plt.show();"
   ]
  },
  {
   "cell_type": "code",
   "execution_count": 25,
   "id": "eae20eef",
   "metadata": {},
   "outputs": [
    {
     "data": {
      "image/png": "[encoded data removed]",
      "text/plain": [
       "<Figure size 432x288 with 1 Axes>"
      ]
     },
     "metadata": {},
     "output_type": "display_data"
    }
   ],
   "source": [
    "#plotting the percentage of female and male from the whole population\n",
    "segment = df.segment.value_counts()\n",
    "plt.pie(segment,labels = ['Consumer', 'Corporate',\"Home Office\"], colors=['deepskyblue',\"blue\",'darkblue'], )\n",
    "# plot title\n",
    "#plt.title('The percentage of female and male from the whole population', fontweight=\"bold\")\n",
    "# showing the plot\n",
    "plt.show();"
   ]
  },
  {
   "cell_type": "code",
   "execution_count": 26,
   "id": "1dc3258c",
   "metadata": {},
   "outputs": [
    {
     "data": {
      "image/png": "[encoded data removed]",
      "text/plain": [
       "<Figure size 1080x360 with 1 Axes>"
      ]
     },
     "metadata": {
      "needs_background": "light"
     },
     "output_type": "display_data"
    }
   ],
   "source": [
    "# can use query sales > 10\n",
    "plt.figure(figsize = [15, 5]) \n",
    "sales = df.city.value_counts().head(10)\n",
    "sales.plot(kind='bar',rot=0, subplots=True);\n",
    "plt.show();"
   ]
  },
  {
   "cell_type": "code",
   "execution_count": 27,
   "id": "18e6f9ce",
   "metadata": {},
   "outputs": [
    {
     "data": {
      "image/png": "[encoded data removed]",
      "text/plain": [
       "<Figure size 432x288 with 1 Axes>"
      ]
     },
     "metadata": {},
     "output_type": "display_data"
    }
   ],
   "source": [
    "#most sold products\n",
    "products = df.category.value_counts()\n",
    "#plotting the percentage of female and male from the whole population\n",
    "segment = df.segment.value_counts()\n",
    "plt.pie(products,labels = ['Office Supplies', 'Furniture',\"Technology\"], colors=['deepskyblue',\"blue\",'darkblue'], )\n",
    "# plot title\n",
    "#plt.title('The percentage of female and male from the whole population', fontweight=\"bold\")\n",
    "# showing the plot\n",
    "plt.show();"
   ]
  },
  {
   "cell_type": "code",
   "execution_count": 28,
   "id": "1aa92608",
   "metadata": {},
   "outputs": [],
   "source": [
    "# can do a map graph with the state and circles number of sales "
   ]
  },
  {
   "cell_type": "code",
   "execution_count": 29,
   "id": "98d40fc4",
   "metadata": {},
   "outputs": [
    {
     "data": {
      "text/plain": [
       "Binders        1523\n",
       "Paper          1370\n",
       "Furnishings     957\n",
       "Phones          889\n",
       "Storage         846\n",
       "Art             796\n",
       "Accessories     775\n",
       "Chairs          617\n",
       "Appliances      466\n",
       "Labels          364\n",
       "Tables          319\n",
       "Envelopes       254\n",
       "Bookcases       228\n",
       "Fasteners       217\n",
       "Supplies        190\n",
       "Machines        115\n",
       "Copiers          68\n",
       "Name: sub_category, dtype: int64"
      ]
     },
     "execution_count": 29,
     "metadata": {},
     "output_type": "execute_result"
    }
   ],
   "source": [
    "df.sub_category.value_counts()"
   ]
  },
  {
   "cell_type": "markdown",
   "id": "7c1a91f8",
   "metadata": {},
   "source": [
    "# Bivariate exploration"
   ]
  },
  {
   "cell_type": "code",
   "execution_count": 30,
   "id": "a60dab61",
   "metadata": {},
   "outputs": [
    {
     "data": {
      "text/plain": [
       "Index(['ship_mode', 'segment', 'city', 'state', 'region', 'category',\n",
       "       'sub_category', 'sales', 'quantity', 'discount', 'profit'],\n",
       "      dtype='object')"
      ]
     },
     "execution_count": 30,
     "metadata": {},
     "output_type": "execute_result"
    }
   ],
   "source": [
    "df.columns"
   ]
  },
  {
   "cell_type": "code",
   "execution_count": 31,
   "id": "7acf689b",
   "metadata": {},
   "outputs": [],
   "source": [
    "# which category is more profitable\n",
    "# for that I will add a column unit sales \n",
    "unit_sales= df.sales/df.quantity\n",
    "df[\"unit_sales\"]=unit_sales"
   ]
  },
  {
   "cell_type": "code",
   "execution_count": 32,
   "id": "a9138f64",
   "metadata": {},
   "outputs": [
    {
     "data": {
      "image/png": "[encoded data removed]",
      "text/plain": [
       "<Figure size 1440x360 with 1 Axes>"
      ]
     },
     "metadata": {
      "needs_background": "light"
     },
     "output_type": "display_data"
    }
   ],
   "source": [
    "#most profitable segment\n",
    "sales_per_segment = df.groupby(\"segment\")['profit'].sum()\n",
    "plt.figure(figsize = [20, 5]) \n",
    "\n",
    "sales_per_segment.plot(kind='bar',rot=0, subplots=True);\n",
    "plt.show();"
   ]
  },
  {
   "cell_type": "code",
   "execution_count": 33,
   "id": "3d2c9700",
   "metadata": {},
   "outputs": [
    {
     "data": {
      "image/png": "[encoded data removed]",
      "text/plain": [
       "<Figure size 1440x360 with 1 Axes>"
      ]
     },
     "metadata": {
      "needs_background": "light"
     },
     "output_type": "display_data"
    }
   ],
   "source": [
    "#most profitable city\n",
    "sales_per_segment = df.groupby(\"region\")['profit'].sum().sort_values(ascending=False )\n",
    "plt.figure(figsize = [20, 5]) \n",
    "\n",
    "sales_per_segment.plot(kind='bar',rot=0, subplots=True);\n",
    "plt.show();"
   ]
  },
  {
   "cell_type": "code",
   "execution_count": 34,
   "id": "3a594b00",
   "metadata": {},
   "outputs": [
    {
     "data": {
      "image/png": "[encoded data removed]",
      "text/plain": [
       "<Figure size 1440x360 with 1 Axes>"
      ]
     },
     "metadata": {
      "needs_background": "light"
     },
     "output_type": "display_data"
    }
   ],
   "source": [
    "#investigating which city in the west is more profitable \n",
    "west = df.query('region== \"West\"')\n",
    "city_count = west.state.value_counts()\n",
    "plt.figure(figsize = [20, 5]) \n",
    "\n",
    "city_count.plot(kind='bar',rot=0, subplots=True);\n",
    "plt.show();\n"
   ]
  },
  {
   "cell_type": "code",
   "execution_count": 35,
   "id": "c4829f2d",
   "metadata": {
    "scrolled": true
   },
   "outputs": [
    {
     "data": {
      "image/png": "[encoded data removed]",
      "text/plain": [
       "<Figure size 1440x360 with 1 Axes>"
      ]
     },
     "metadata": {
      "needs_background": "light"
     },
     "output_type": "display_data"
    }
   ],
   "source": [
    "sales_per_category = df.groupby(\"sub_category\")['unit_sales'].mean().sort_values(ascending=False )\n",
    "plt.figure(figsize = [20, 5]) \n",
    "\n",
    "sales_per_category.plot(kind='bar',rot=0, subplots=True);\n",
    "plt.show();"
   ]
  },
  {
   "cell_type": "markdown",
   "id": "f20aa11c",
   "metadata": {},
   "source": [
    "copiers with highest has less ros than labels papers and envelop and machines 2nd highest sales has negative ros "
   ]
  },
  {
   "cell_type": "code",
   "execution_count": 36,
   "id": "f4d028bc",
   "metadata": {},
   "outputs": [],
   "source": [
    "# computing return on sales\n",
    "ros = (df.profit/df.sales)*100\n",
    "df[\"ros\"]=ros"
   ]
  },
  {
   "cell_type": "code",
   "execution_count": 37,
   "id": "4d789066",
   "metadata": {},
   "outputs": [
    {
     "data": {
      "image/png": "[encoded data removed]",
      "text/plain": [
       "<Figure size 1440x360 with 1 Axes>"
      ]
     },
     "metadata": {
      "needs_background": "light"
     },
     "output_type": "display_data"
    }
   ],
   "source": [
    "# retrun on sales by sub_category \n",
    "ros = df.groupby(\"category\")['ros'].mean().sort_values(ascending=False )\n",
    "plt.figure(figsize = [20, 5]) \n",
    "\n",
    "ros.plot(kind='bar',rot=0, subplots=True,color=[\"darkblue\",\"blue\",\"deepskyblue\"]);\n",
    "plt.show();\n"
   ]
  },
  {
   "cell_type": "code",
   "execution_count": 38,
   "id": "675cc24b",
   "metadata": {},
   "outputs": [
    {
     "data": {
      "image/png": "[encoded data removed]",
      "text/plain": [
       "<Figure size 1440x360 with 1 Axes>"
      ]
     },
     "metadata": {
      "needs_background": "light"
     },
     "output_type": "display_data"
    }
   ],
   "source": [
    "# retrun on sales by sub_category \n",
    "ros = df.groupby(\"sub_category\")['ros'].mean().sort_values(ascending=False )\n",
    "plt.figure(figsize = [20, 5]) \n",
    "mask = ros <0\n",
    "\n",
    "colors = np.array(['darkblue']*len(ros))\n",
    "colors[mask.values] = 'crimson'\n",
    "ros.plot(kind='bar',rot=0, subplots=True, color=colors);\n",
    "plt.show();\n"
   ]
  },
  {
   "cell_type": "code",
   "execution_count": 39,
   "id": "4eba4d8c",
   "metadata": {},
   "outputs": [],
   "source": [
    "all_ros = df.groupby(\"category\")['sub_category'].value_counts()"
   ]
  },
  {
   "cell_type": "code",
   "execution_count": 40,
   "id": "ea10b19e",
   "metadata": {},
   "outputs": [],
   "source": [
    "df1 = df.query(\"ros<0\")\n",
    "negative_ros = df1.groupby(\"category\")['sub_category'].value_counts()"
   ]
  },
  {
   "cell_type": "code",
   "execution_count": 41,
   "id": "369fb7e6",
   "metadata": {},
   "outputs": [
    {
     "data": {
      "text/plain": [
       "category         sub_category\n",
       "Furniture        Bookcases       119.0\n",
       "                 Chairs          382.0\n",
       "                 Furnishings     790.0\n",
       "                 Tables          116.0\n",
       "Office Supplies  Appliances      399.0\n",
       "                 Art               NaN\n",
       "                 Binders         910.0\n",
       "                 Envelopes         NaN\n",
       "                 Fasteners       205.0\n",
       "                 Labels            NaN\n",
       "                 Paper             NaN\n",
       "                 Storage         685.0\n",
       "                 Supplies        157.0\n",
       "Technology       Accessories     684.0\n",
       "                 Copiers           NaN\n",
       "                 Machines         71.0\n",
       "                 Phones          753.0\n",
       "Name: sub_category, dtype: float64"
      ]
     },
     "execution_count": 41,
     "metadata": {},
     "output_type": "execute_result"
    }
   ],
   "source": [
    "#positive_ros \n",
    "all_ros-negative_ros"
   ]
  },
  {
   "cell_type": "markdown",
   "id": "276dcc1a",
   "metadata": {},
   "source": [
    "Technology equipements have highest mean of ROS but in each sub category we have items with negative ros except for copiers, labels, envelops, art, paper \n"
   ]
  },
  {
   "cell_type": "code",
   "execution_count": 42,
   "id": "1c637f1d",
   "metadata": {},
   "outputs": [],
   "source": [
    "def plot_sidebyside(col_name,x=\"ship_mode\", axis_label=\"Number\"):\n",
    "    global df\n",
    "    g = sns.catplot(x=\"ship_mode\", col=col_name, \n",
    "                data= df,\n",
    "                kind=\"count\",col_wrap=4,palette =sns.color_palette(['deepskyblue', 'darkblue']))\n",
    "    #setting axis label and xtick labels\n",
    "    (g.set_axis_labels(\"\", axis_label))\n",
    "    #precising the bottom and the limit to have unifor plotting across many graphs\n",
    "    return plt.show();"
   ]
  },
  {
   "cell_type": "code",
   "execution_count": 43,
   "id": "43460d93",
   "metadata": {},
   "outputs": [
    {
     "data": {
      "image/png": "[encoded data removed]",
      "text/plain": [
       "<Figure size 1440x360 with 3 Axes>"
      ]
     },
     "metadata": {
      "needs_background": "light"
     },
     "output_type": "display_data"
    }
   ],
   "source": [
    "plot_sidebyside(\"segment\")"
   ]
  },
  {
   "cell_type": "code",
   "execution_count": 44,
   "id": "809760ab",
   "metadata": {},
   "outputs": [
    {
     "data": {
      "image/png": "[encoded data removed]",
      "text/plain": [
       "<Figure size 1440x360 with 1 Axes>"
      ]
     },
     "metadata": {
      "needs_background": "light"
     },
     "output_type": "display_data"
    }
   ],
   "source": [
    "#profitablity compared to discount\n",
    "discount = df.groupby(\"discount\")[\"profit\"].sum()\n",
    "plt.figure(figsize = [20, 5]) \n",
    "\n",
    "mask = discount <0\n",
    "\n",
    "colors = np.array(['darkblue']*len(discount))\n",
    "colors[mask.values] = 'crimson'\n",
    "\n",
    "discount.plot(kind='bar',rot=0, subplots=True, color = colors);\n",
    "plt.show();"
   ]
  },
  {
   "cell_type": "code",
   "execution_count": 45,
   "id": "a2a7c4be",
   "metadata": {},
   "outputs": [
    {
     "data": {
      "text/plain": [
       "sub_category  discount\n",
       "Accessories   0.20         91\n",
       "Appliances    0.80         67\n",
       "Binders       0.70        380\n",
       "              0.80        233\n",
       "Bookcases     0.32         27\n",
       "              0.20         23\n",
       "              0.50         18\n",
       "              0.15         17\n",
       "              0.70         15\n",
       "              0.30          9\n",
       "Chairs        0.30        148\n",
       "              0.20         83\n",
       "              0.10          4\n",
       "Fasteners     0.20         12\n",
       "Furnishings   0.60        138\n",
       "              0.20         29\n",
       "Machines      0.70         23\n",
       "              0.50         12\n",
       "              0.40          8\n",
       "              0.30          1\n",
       "Phones        0.40         97\n",
       "              0.20         39\n",
       "Storage       0.20        161\n",
       "Supplies      0.20         33\n",
       "Tables        0.40         75\n",
       "              0.30         50\n",
       "              0.50         36\n",
       "              0.20         31\n",
       "              0.45         11\n",
       "Name: discount, dtype: int64"
      ]
     },
     "execution_count": 45,
     "metadata": {},
     "output_type": "execute_result"
    }
   ],
   "source": [
    "# which discounts will cause negative profit \n",
    "negative_discount = df.query('profit<0')\n",
    "n_discount = negative_discount.groupby(\"sub_category\")[\"discount\"].value_counts()\n",
    "n_discount"
   ]
  },
  {
   "cell_type": "code",
   "execution_count": 46,
   "id": "0519bc6e",
   "metadata": {},
   "outputs": [
    {
     "data": {
      "text/plain": [
       "Index(['ship_mode', 'segment', 'city', 'state', 'region', 'category',\n",
       "       'sub_category', 'sales', 'quantity', 'discount', 'profit', 'unit_sales',\n",
       "       'ros'],\n",
       "      dtype='object')"
      ]
     },
     "execution_count": 46,
     "metadata": {},
     "output_type": "execute_result"
    }
   ],
   "source": [
    "df.columns"
   ]
  },
  {
   "cell_type": "markdown",
   "id": "038d9224",
   "metadata": {},
   "source": [
    "### Problems :\n",
    "discount allocation \n",
    "ros of some products is negative : need to compare costs and price allocation\n",
    "more marketing to profitable segment consumer in west (california espacially)\n",
    "copiers with highest has less ros than labels papers and envelop and machines 2nd highest sales has negative ros \n",
    "technology least sold quanitities but highest ros "
   ]
  },
  {
   "cell_type": "code",
   "execution_count": null,
   "id": "908a592d",
   "metadata": {},
   "outputs": [],
   "source": []
  }
 ],
 "metadata": {
  "kernelspec": {
   "display_name": "Python 3",
   "language": "python",
   "name": "python3"
  },
  "language_info": {
   "codemirror_mode": {
    "name": "ipython",
    "version": 3
   },
   "file_extension": ".py",
   "mimetype": "text/x-python",
   "name": "python",
   "nbconvert_exporter": "python",
   "pygments_lexer": "ipython3",
   "version": "3.9.12"
  }
 },
 "nbformat": 4,
 "nbformat_minor": 5
}
